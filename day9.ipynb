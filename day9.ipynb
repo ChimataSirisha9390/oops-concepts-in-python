{
 "cells": [
  {
   "cell_type": "code",
   "execution_count": 1,
   "id": "2fadcbeb-5063-40af-90c9-24ddf15a3921",
   "metadata": {},
   "outputs": [
    {
     "name": "stdout",
     "output_type": "stream",
     "text": [
      "9\n"
     ]
    }
   ],
   "source": [
    "class abc:\n",
    "    value=9\n",
    "obj1=abc()\n",
    "print(obj1.value)"
   ]
  },
  {
   "cell_type": "code",
   "execution_count": 3,
   "id": "03378539-4c1f-4caa-ae9b-8da6a6a613f6",
   "metadata": {},
   "outputs": [
    {
     "name": "stdout",
     "output_type": "stream",
     "text": [
      "9\n",
      "This is a CLASS method\n"
     ]
    }
   ],
   "source": [
    "class abc():\n",
    "    value=9\n",
    "    def display(self):\n",
    "        print(\"This is a CLASS method\")\n",
    "obj1=abc()\n",
    "print(obj1.value)\n",
    "obj1.display()"
   ]
  },
  {
   "cell_type": "code",
   "execution_count": 5,
   "id": "8975f25f-ef47-4afb-9f6d-f088b4507ec8",
   "metadata": {},
   "outputs": [
    {
     "name": "stdout",
     "output_type": "stream",
     "text": [
      "9\n",
      "This is a CLASS method\n",
      "9\n",
      "This is a CLASS method\n",
      "This is a CLASS method\n"
     ]
    }
   ],
   "source": [
    "class abc():\n",
    "    value=9\n",
    "    def display(self):\n",
    "        print(\"This is a CLASS method\")\n",
    "obj1=abc()\n",
    "print(obj1.value)\n",
    "obj1.display()\n",
    "print(obj1.value)\n",
    "obj1.display()\n",
    "obj1.display()"
   ]
  },
  {
   "cell_type": "code",
   "execution_count": 7,
   "id": "bfebbe44-7d26-41ae-a42a-55d460e57abd",
   "metadata": {},
   "outputs": [
    {
     "name": "stdin",
     "output_type": "stream",
     "text": [
      "Enter a value: 10\n"
     ]
    },
    {
     "name": "stdout",
     "output_type": "stream",
     "text": [
      "this is a class method\n",
      "Accessed value in class is  10\n"
     ]
    }
   ],
   "source": [
    "class abc:\n",
    "    def __init__(self,value):\n",
    "        print(\"this is a class method\")\n",
    "        self.value=value\n",
    "        print(\"Accessed value in class is \",value)\n",
    "num=int(input(\"Enter a value:\"))\n",
    "obj=abc(num)"
   ]
  },
  {
   "cell_type": "code",
   "execution_count": 15,
   "id": "88bc7304-439b-4245-8c2b-5ff550dbebf9",
   "metadata": {},
   "outputs": [
    {
     "name": "stdout",
     "output_type": "stream",
     "text": [
      "Hello,I am siri and i am 20 years-old\n"
     ]
    }
   ],
   "source": [
    "class student:\n",
    "    def __init__(self,name,age):\n",
    "        self.name=name\n",
    "        self.age=age\n",
    "    def hi(self):\n",
    "        print(f\"Hello,I am {self.name} and i am {self.age} years-old\")\n",
    "s=student('siri', 20)\n",
    "s.hi()"
   ]
  },
  {
   "cell_type": "code",
   "execution_count": 17,
   "id": "1f8a63e1-907e-491d-b7b9-d678a7ad9b11",
   "metadata": {},
   "outputs": [
    {
     "name": "stdin",
     "output_type": "stream",
     "text": [
      "Enter the radius: 5\n"
     ]
    },
    {
     "name": "stdout",
     "output_type": "stream",
     "text": [
      "Area of circle : 78.53981633974483\n"
     ]
    }
   ],
   "source": [
    "''' code to claculate the area of a circle by importing pi from math and create a class for cricle with a constructor,where radius is considerd as an arg claculate and return the value to the object.'''\n",
    "import math\n",
    "class circle:\n",
    "    def __init__(self,radius):\n",
    "        self.radius=radius\n",
    "    def area(self):\n",
    "        return math.pi * self.radius**2\n",
    "r=int(input(\"Enter the radius:\"))\n",
    "c=circle(r)\n",
    "print(\"Area of circle :\",c.area())"
   ]
  },
  {
   "cell_type": "code",
   "execution_count": 23,
   "id": "e699cec4-6a48-49b4-9e70-5a554f10ad89",
   "metadata": {},
   "outputs": [
    {
     "name": "stdin",
     "output_type": "stream",
     "text": [
      "Enter the radius: 6\n"
     ]
    },
    {
     "name": "stdout",
     "output_type": "stream",
     "text": [
      "Area of circle :113.10\n",
      "Circumference of circle : 37.69911184307752\n"
     ]
    }
   ],
   "source": [
    "import math\n",
    "class circle:\n",
    "    def __init__(self,radius):\n",
    "        self.radius=radius\n",
    "    def area(self):\n",
    "        return math.pi * self.radius**2\n",
    "    def cir(self):\n",
    "        return 2*math.pi*self.radius\n",
    "r=int(input(\"Enter the radius:\"))\n",
    "c=circle(r)\n",
    "print(f\"Area of circle :{c.area():.2f}\")\n",
    "print(\"Circumference of circle :\",c.cir())"
   ]
  },
  {
   "cell_type": "code",
   "execution_count": 29,
   "id": "f4d4869f-99b8-4d0d-8bd6-d7287faa47f1",
   "metadata": {},
   "outputs": [
    {
     "name": "stdin",
     "output_type": "stream",
     "text": [
      "Enetr a number: 7\n"
     ]
    },
    {
     "name": "stdout",
     "output_type": "stream",
     "text": [
      "Factorial: 5040\n"
     ]
    }
   ],
   "source": [
    "'''code to find and print the facorial of a given number using a class called math and register the give number in a \n",
    "constructor to claclate return the value by passing to the main function'''\n",
    "class Math:\n",
    "    def __init__(self,num):\n",
    "        self.num=num\n",
    "    def fact(self):\n",
    "        f=1\n",
    "        for i in range(1,self.num+1):\n",
    "            f*=i\n",
    "        return f \n",
    "number=int(input(\"Enetr a number:\"))\n",
    "m=Math(number)\n",
    "print(\"Factorial:\",m.fact())"
   ]
  },
  {
   "cell_type": "code",
   "execution_count": 33,
   "id": "97e5eb7a-2ab5-42fb-9675-73a810627342",
   "metadata": {},
   "outputs": [
    {
     "name": "stdin",
     "output_type": "stream",
     "text": [
      "enter the number 84\n"
     ]
    },
    {
     "name": "stdout",
     "output_type": "stream",
     "text": [
      "SquareRoot:9.17\n"
     ]
    }
   ],
   "source": [
    "'''code to import the sqrt function and cacluate the value by creating class squarerrot and define a function for \n",
    "finding the root return the value to main program'''\n",
    "import math\n",
    "class SquareRoot:\n",
    "    def __init__(self,num):\n",
    "        self.num=num\n",
    "    def find_root(self):\n",
    "        return math.sqrt(self.num)\n",
    "num=float(input(\"enter the number\"))\n",
    "s=SquareRoot(num)\n",
    "print(f\"SquareRoot:{s.find_root():.2f}\")\n"
   ]
  },
  {
   "cell_type": "code",
   "execution_count": null,
   "id": "c449fcfb-a0e1-4651-81db-539f316a3b86",
   "metadata": {},
   "outputs": [],
   "source": []
  }
 ],
 "metadata": {
  "kernelspec": {
   "display_name": "Python 3 (ipykernel)",
   "language": "python",
   "name": "python3"
  },
  "language_info": {
   "codemirror_mode": {
    "name": "ipython",
    "version": 3
   },
   "file_extension": ".py",
   "mimetype": "text/x-python",
   "name": "python",
   "nbconvert_exporter": "python",
   "pygments_lexer": "ipython3",
   "version": "3.12.7"
  }
 },
 "nbformat": 4,
 "nbformat_minor": 5
}
